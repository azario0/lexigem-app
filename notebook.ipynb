{
 "cells": [
  {
   "cell_type": "code",
   "execution_count": 3,
   "id": "c30e0feb",
   "metadata": {},
   "outputs": [],
   "source": [
    "import google.generativeai as genai"
   ]
  },
  {
   "cell_type": "code",
   "execution_count": null,
   "id": "3a5d7839",
   "metadata": {},
   "outputs": [],
   "source": [
    "genai.configure(api_key=\"Your api key\")"
   ]
  },
  {
   "cell_type": "code",
   "execution_count": 5,
   "id": "6143a249",
   "metadata": {},
   "outputs": [],
   "source": [
    "model = genai.GenerativeModel('gemini-1.5-flash')"
   ]
  },
  {
   "cell_type": "code",
   "execution_count": 6,
   "id": "80a625e1",
   "metadata": {},
   "outputs": [],
   "source": [
    "word_of_user = \"Hello\""
   ]
  },
  {
   "cell_type": "code",
   "execution_count": null,
   "id": "a91c8270",
   "metadata": {},
   "outputs": [],
   "source": [
    "prompt_engineering_fr = f\"\"\"\n",
    "Vous êtes un lexicographe et rédacteur spécialisé dans l’usage des mots. Produisez une entrée complète de style dictionnaire pour le mot : \"{word_of_user}\".\n",
    "Retournez les sections suivantes, étiquetées et dans l’ordre indiqué :\n",
    "1. Mot (le mot)\n",
    "2. Partie du discours\n",
    "3. Prononciation (API si disponible)\n",
    "4. Définition concise (une phrase)\n",
    "5. Définition développée (2–3 phrases)\n",
    "6. Synonymes courants (3–6)\n",
    "7. Antonymes courants (s’il y en a)\n",
    "8. Phrases d’exemple (3 contextes différents ; chaque phrase ≤ 20 mots)\n",
    "9. Registre typique (formel / neutre / informel) et domaines d’usage (ex. : médecine, droit, informatique) si pertinent\n",
    "10. Courte étymologie (une ligne)\n",
    "Rédigez clairement pour un public général ; évitez les paragraphes techniques trop longs.\n",
    "\"\"\""
   ]
  },
  {
   "cell_type": "code",
   "execution_count": null,
   "id": "61b023a4",
   "metadata": {},
   "outputs": [],
   "source": [
    "prompt_engineering = f\"\"\"\n",
    "You are an expert lexicographer and usage editor. Produce a complete dictionary-style entry for the word: \"{word_of_user}\".\n",
    "Return the following sections, labelled and in the order given:\n",
    "1. Word (the word)\n",
    "2. Part of speech\n",
    "3. Pronunciation (IPA if available)\n",
    "4. Concise definition (one sentence)\n",
    "5. Expanded definition (2–3 sentences)\n",
    "6. Common synonyms (3–6)\n",
    "7. Common antonyms (if any)\n",
    "8. Example sentences (3 different contexts; keep each sentence ≤ 20 words)\n",
    "9. Typical register (formal / neutral / informal) and domain tags (e.g., medicine, law, computing) if relevant\n",
    "10. Short etymology (one line)\n",
    "Write clearly for a general audience; avoid long technical paragraphs.\n",
    "\"\"\"\n",
    "response = model.generate_content(prompt_engineering)"
   ]
  },
  {
   "cell_type": "code",
   "execution_count": 9,
   "id": "d7540bcf",
   "metadata": {},
   "outputs": [
    {
     "name": "stdout",
     "output_type": "stream",
     "text": [
      "1. **Word:** Hello\n",
      "\n",
      "2. **Part of speech:** Interjection\n",
      "\n",
      "3. **Pronunciation:** /həˈloʊ/\n",
      "\n",
      "4. **Concise definition:**  \"Hello\" is a common greeting used to initiate conversation.\n",
      "\n",
      "5. **Expanded definition:** It typically signals a friendly acknowledgment of another person's presence or the start of a communication.  The specific connotation can vary depending on context, tone, and relationship between speakers. It is generally considered a neutral greeting suitable for most situations.\n",
      "\n",
      "\n",
      "6. **Common synonyms:** Hi, Hey, Greetings, Howdy,  Salutations\n",
      "\n",
      "7. **Common antonyms:**  (None; antonyms are not typically applicable to interjections)\n",
      "\n",
      "8. **Example sentences:**\n",
      "    * \"Hello, how are you today?\" (Casual conversation)\n",
      "    * \"Hello, this is Dr. Jones returning your call.\" (Professional phone call)\n",
      "    * \"Hello, world!\" (Programming)\n",
      "\n",
      "9. **Typical register and domain tags:** Neutral;  Computing\n",
      "\n",
      "10. **Short etymology:**  Derived from \"holla,\" an earlier variant of \"hollo,\" an exclamation used to attract attention.\n",
      "\n"
     ]
    }
   ],
   "source": [
    "print(response.text)"
   ]
  },
  {
   "cell_type": "code",
   "execution_count": null,
   "id": "0cf153f3",
   "metadata": {},
   "outputs": [],
   "source": []
  }
 ],
 "metadata": {
  "kernelspec": {
   "display_name": "Python 3",
   "language": "python",
   "name": "python3"
  },
  "language_info": {
   "codemirror_mode": {
    "name": "ipython",
    "version": 3
   },
   "file_extension": ".py",
   "mimetype": "text/x-python",
   "name": "python",
   "nbconvert_exporter": "python",
   "pygments_lexer": "ipython3",
   "version": "3.12.3"
  }
 },
 "nbformat": 4,
 "nbformat_minor": 5
}
